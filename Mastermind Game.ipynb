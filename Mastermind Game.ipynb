{
 "cells": [
  {
   "cell_type": "code",
   "execution_count": 1,
   "id": "f5fc507e",
   "metadata": {},
   "outputs": [],
   "source": [
    "import random\n",
    "import numpy as np"
   ]
  },
  {
   "cell_type": "code",
   "execution_count": 2,
   "id": "6aaeb697",
   "metadata": {
    "scrolled": true
   },
   "outputs": [],
   "source": [
    "def game_setup(difficulty_level):\n",
    "    colors = ['red', 'orange', 'yellow', 'green', 'cyan', 'blue', 'magenta', 'purple', 'white', 'black', 'grey', \n",
    "              'pink', 'maroon', 'tan', 'peach', 'lime', 'olive', 'turquoise', 'teal', 'beige', 'violet', 'silver', \n",
    "              'brown', 'indigo', 'navy blue']\n",
    "    color_list = []\n",
    "    guess_list = []\n",
    "    if difficulty_level == 'hard':\n",
    "        color_list = colors \n",
    "        guess_list = np.random.choice(color_list, size=10, replace=True)\n",
    "    if difficulty_level == 'medium':\n",
    "        color_list = np.random.choice(colors, size=15, replace=False)\n",
    "        guess_list = np.random.choice(color_list, size=5, replace=True)\n",
    "    if difficulty_level == 'easy':\n",
    "        color_list = np.random.choice(colors, size=10, replace=False)\n",
    "        guess_list = np.random.choice(color_list, size=3, replace=True)\n",
    "    lists = (list(color_list), list(guess_list))\n",
    "    return lists\n"
   ]
  },
  {
   "cell_type": "code",
   "execution_count": 3,
   "id": "b97d42c7",
   "metadata": {},
   "outputs": [],
   "source": [
    "\n",
    "def game_flow(len_color, len_guess, color_list, guess_list):\n",
    "    attempts = 0 \n",
    "    hit = 0 \n",
    "    pos = 0 \n",
    "    index = 0\n",
    "    entries = []\n",
    "    end_game = False\n",
    "    while end_game == False:\n",
    "        while len(entries) < len_guess:\n",
    "            entry = input('Provide entry: ')\n",
    "            if entry in color_list:\n",
    "                entries.append(entry)\n",
    "            else:\n",
    "                print('Color not in list!')\n",
    "        for i in range(len_guess):\n",
    "            if entries[index] == guess_list[index]:\n",
    "                pos = pos + 1\n",
    "            else:\n",
    "                if entries[index] in guess_list:\n",
    "                    hit = hit + 1\n",
    "            index = index + 1\n",
    "        attempts = attempts + 1 \n",
    "        if pos < len_guess:\n",
    "            print('Correct color in the correct place: ', pos, '\\nCorrect color, but wrong place: ', hit)\n",
    "            entries = []\n",
    "            hit = 0\n",
    "            pos = 0\n",
    "            index = 0\n",
    "        else:\n",
    "            end_game = True\n",
    "    return attempts\n"
   ]
  },
  {
   "cell_type": "code",
   "execution_count": 4,
   "id": "d41393e1",
   "metadata": {},
   "outputs": [],
   "source": [
    "def main():\n",
    "    print('Welcome! Choose an option to start!\\n 1. Game rules\\n 2. Start Game\\n 3. Exit game')\n",
    "    request_menu_entry = True\n",
    "    while request_menu_entry == True:\n",
    "        game_entry = int(input('Your option:'))\n",
    "        if game_entry == 1:\n",
    "            print('The goal of the game is for you to guess a list of randomly selected colors.\\n',\n",
    "                  'You have to guess not only the color, but also its correct position in the sequence.\\n',\n",
    "                  'It is possible for the same color to show up more than once in the same sequence. \\n',\n",
    "                  'A warning will appear if you enter a color which is not in the original list. \\n',\n",
    "                  'You are given hints each time a full sequence is entered.\\n',\n",
    "                  'The game has three difficulty levels: hard, medium, and easy.\\n',\n",
    "                  'Hard - guess a sequence of 10 colors out of 25 possible colors.\\n',\n",
    "                  'Medium - guess a sequence of 5 colors out of 15 possible colors.\\n',\n",
    "                  'Easy - guess a sequence of 3 colors out of 10 possible colors.\\n')\n",
    "        elif game_entry == 2:\n",
    "            request_menu_entry = False\n",
    "            start_game = False\n",
    "            while start_game == False:\n",
    "                difficulty_level = input(\"Select difficulty level (hard/medium/easy): \")\n",
    "                if difficulty_level not in ['hard', 'medium', 'easy']:\n",
    "                    print('Wrong entry!')\n",
    "                else:\n",
    "                    start_game = True\n",
    "            color_list, guess_list = game_setup(difficulty_level)    \n",
    "            len_color = len(color_list)\n",
    "            len_guess = len(guess_list)\n",
    "            print('Your challenge is to guess', len_guess, 'out of', len_color, 'possible colors. Good luck!')\n",
    "            print('The list of possible colors is: \\n')\n",
    "            for i in color_list:\n",
    "                print(i)\n",
    "            attempts = game_flow(len_color, len_guess, color_list, guess_list)\n",
    "            print('The correct answer is: \\n')\n",
    "            for i in guess_list:\n",
    "                print(i)\n",
    "            print('You win! Number of attempts required to complete game:', attempts)\n",
    "        elif game_entry == 3:\n",
    "            print('Goodbye!')\n",
    "            request_menu_entry = False\n",
    "        else:\n",
    "            print('Wrong entry, please choose from available menu options.')"
   ]
  },
  {
   "cell_type": "code",
   "execution_count": 5,
   "id": "2f3ca73e",
   "metadata": {
    "scrolled": false
   },
   "outputs": [
    {
     "name": "stdout",
     "output_type": "stream",
     "text": [
      "Welcome! Choose an option to start!\n",
      " 1. Game rules\n",
      " 2. Start Game\n",
      " 3. Exit game\n",
      "Your option:3\n",
      "Goodbye!\n"
     ]
    }
   ],
   "source": [
    "main()"
   ]
  },
  {
   "cell_type": "code",
   "execution_count": null,
   "id": "1cb70ab7",
   "metadata": {},
   "outputs": [],
   "source": []
  }
 ],
 "metadata": {
  "kernelspec": {
   "display_name": "Python 3 (ipykernel)",
   "language": "python",
   "name": "python3"
  },
  "language_info": {
   "codemirror_mode": {
    "name": "ipython",
    "version": 3
   },
   "file_extension": ".py",
   "mimetype": "text/x-python",
   "name": "python",
   "nbconvert_exporter": "python",
   "pygments_lexer": "ipython3",
   "version": "3.8.12"
  }
 },
 "nbformat": 4,
 "nbformat_minor": 5
}
